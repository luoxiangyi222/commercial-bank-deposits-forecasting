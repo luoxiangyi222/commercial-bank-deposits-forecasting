{
 "cells": [
  {
   "cell_type": "code",
   "execution_count": 1,
   "id": "96ce8024-1922-4b76-96cc-68d3f3755e96",
   "metadata": {},
   "outputs": [],
   "source": [
    "%load_ext lab_black\n",
    "%matplotlib inline"
   ]
  },
  {
   "cell_type": "code",
   "execution_count": 2,
   "id": "a168a3b8-f680-4ddc-908f-894b40e64240",
   "metadata": {},
   "outputs": [],
   "source": [
    "import numpy as np\n",
    "import pandas as pd\n",
    "\n",
    "import pandas as pd\n",
    "import numpy as np\n",
    "import scipy.stats as stats\n",
    "\n",
    "import plotly\n",
    "import kaleido\n",
    "import matplotlib.pyplot as plt\n",
    "import seaborn as sns\n",
    "import plotly.express as px\n",
    "from plotly.subplots import make_subplots\n",
    "import plotly.graph_objects as go\n",
    "\n",
    "from statsmodels.tools import add_constant\n",
    "\n",
    "from sklearn.linear_model import LinearRegression\n",
    "import statsmodels.api as sm\n",
    "\n",
    "from datetime import date\n",
    "import glob\n",
    "from collections import defaultdict\n",
    "\n",
    "\n",
    "# customized modules\n",
    "\n",
    "from src.data_models.stat_linear_regression import MyLR, get_SLR_analysis_results\n",
    "from src.data_models.model_eval import RMSE, R2, MAPE, MPE, get_cv_results\n",
    "from src.common_helpers.helpers import (\n",
    "    select_k,\n",
    "    get_k_fold_index_list,\n",
    "    dict_to_dataframe,\n",
    "    listStr_to_list,\n",
    ")\n",
    "from src.data_prepare.data_loader import load_data"
   ]
  },
  {
   "cell_type": "code",
   "execution_count": null,
   "id": "f5f14bac-f1fa-4fb1-9dd5-0b4a7c5fac1a",
   "metadata": {},
   "outputs": [],
   "source": []
  },
  {
   "cell_type": "markdown",
   "id": "84ee1ac3-4bc0-4c34-be2e-6092ed44acd5",
   "metadata": {},
   "source": [
    "# 0. Load data"
   ]
  },
  {
   "cell_type": "code",
   "execution_count": 3,
   "id": "d9b68455-65e4-45a4-8809-48f22af8d021",
   "metadata": {},
   "outputs": [],
   "source": [
    "model_res_dict = defaultdict(\n",
    "    lambda: {\"model_description\": None, \"x_names\": None, \"metrics\": {}}\n",
    ")"
   ]
  },
  {
   "cell_type": "code",
   "execution_count": 4,
   "id": "62d771c0-fb38-43b9-86ed-f4fe195851e1",
   "metadata": {},
   "outputs": [
    {
     "name": "stdout",
     "output_type": "stream",
     "text": [
      "insample:  (104, 25)\n",
      "outsample:  (12, 25)\n"
     ]
    }
   ],
   "source": [
    "## Load original dataframe\n",
    "\n",
    "file_names = sorted(glob.glob(\"analyze-dataset/merged_data_*.csv\"))\n",
    "\n",
    "original_filename = file_names[-1]\n",
    "\n",
    "\n",
    "# to avoid data leakage for model evaluation\n",
    "insample_df, outsample_df, full_df = load_data(\n",
    "    original_filename, insample_end_year=2017\n",
    ")\n",
    "\n",
    "\n",
    "INSAMPLE_ROWS = insample_df.shape[0]\n",
    "OUTSAMPLE_ROWS = outsample_df.shape[0]\n",
    "\n",
    "\n",
    "insample_df = full_df.iloc[:INSAMPLE_ROWS]\n",
    "outsample_df = full_df.iloc[-OUTSAMPLE_ROWS:]\n",
    "\n",
    "\n",
    "print(\"insample: \", insample_df.shape)\n",
    "print(\"outsample: \", outsample_df.shape)"
   ]
  },
  {
   "cell_type": "code",
   "execution_count": 5,
   "id": "13c9512d-5890-4a47-95b8-4b3ccb52762a",
   "metadata": {},
   "outputs": [],
   "source": [
    "boring_cols = [\"Data Series\", \"total_deposits_from_non-bank_customer\"]\n",
    "\n",
    "Y_COL_NAME = \"total_deposits_from_non-bank_customer\"\n",
    "X_COL_NAME_ALL = [\n",
    "    cname for cname in list(full_df.columns) if not (cname in boring_cols)\n",
    "]"
   ]
  },
  {
   "cell_type": "code",
   "execution_count": 7,
   "id": "0f0acbf0-adeb-4fea-b473-773d60f69d02",
   "metadata": {},
   "outputs": [],
   "source": [
    "# outsample_df"
   ]
  },
  {
   "cell_type": "markdown",
   "id": "99494c5f-60be-4357-a8cd-6414ea5fdc0e",
   "metadata": {},
   "source": [
    "### Autocorrelation Plot \n",
    "\n",
    "- Plot autocorrelation plot, select lags with correlation > 0.8 as inputs of linear regression."
   ]
  },
  {
   "cell_type": "code",
   "execution_count": 8,
   "id": "1faf5566-4d23-427a-b5b3-6eec78780038",
   "metadata": {},
   "outputs": [
    {
     "name": "stdout",
     "output_type": "stream",
     "text": [
      "The Autocorrelation plot for the total deposit is:\n"
     ]
    },
    {
     "data": {
      "image/png": "[encoded data removed]",
      "text/plain": [
       "<Figure size 720x432 with 1 Axes>"
      ]
     },
     "metadata": {
      "needs_background": "light"
     },
     "output_type": "display_data"
    }
   ],
   "source": [
    "plt.figure(figsize=(10, 6))\n",
    "plt.title(f\"The Autocorrelation Plot: {Y_COL_NAME}\")\n",
    "plt.acorr(insample_df[Y_COL_NAME], maxlags=20)\n",
    "plt.axhline(y=0.8, color=\"r\", linestyle=\"--\", alpha=0.7)\n",
    "print(\"The Autocorrelation plot for the total deposit is:\")\n",
    "plt.grid(True)\n",
    "plt.show()"
   ]
  },
  {
   "cell_type": "code",
   "execution_count": 9,
   "id": "29b42dac-22b6-4abd-aafe-24d851f75602",
   "metadata": {},
   "outputs": [
    {
     "name": "stdout",
     "output_type": "stream",
     "text": [
      "(92, 37)\n",
      "(12, 37)\n"
     ]
    }
   ],
   "source": [
    "# Add Lag columns to full dataframe, according to autocorrelation\n",
    "\n",
    "full_lag_df = full_df.copy()\n",
    "\n",
    "for i in range(1, 13):  # add 3 years lag\n",
    "    full_lag_df[f\"y_lag_{i}\"] = full_lag_df[Y_COL_NAME].shift(i)\n",
    "\n",
    "full_lag_df.head()\n",
    "\n",
    "insample_lag_df = full_lag_df.iloc[:INSAMPLE_ROWS]  # contain nan values\n",
    "insample_lag_df = insample_lag_df.dropna()  # remove nan values\n",
    "outsample_lag_df = full_lag_df.iloc[-OUTSAMPLE_ROWS:]\n",
    "\n",
    "\n",
    "print(insample_lag_df.shape)\n",
    "print(outsample_lag_df.shape)"
   ]
  },
  {
   "cell_type": "markdown",
   "id": "80f74fbb-7181-4630-a582-fd0312f0f1e3",
   "metadata": {},
   "source": [
    "# 1. Linear Model"
   ]
  },
  {
   "cell_type": "markdown",
   "id": "44e1e634-a157-4e98-ba32-396431afe773",
   "metadata": {},
   "source": [
    "## 1.1 Simple Linear Model"
   ]
  },
  {
   "cell_type": "code",
   "execution_count": 10,
   "id": "723ef57c-ffba-4c27-a983-5d0bb44cbff3",
   "metadata": {},
   "outputs": [
    {
     "name": "stdout",
     "output_type": "stream",
     "text": [
      "(92, 37)\n"
     ]
    }
   ],
   "source": [
    "SLR_df = insample_lag_df.copy()\n",
    "\n",
    "print(SLR_df.shape)"
   ]
  },
  {
   "cell_type": "markdown",
   "id": "5aff2934-6e82-4583-8d15-d587d95cf7ff",
   "metadata": {},
   "source": [
    "- For each single variable, build a simple linear regression model (excluding nan-value rows), collect corresponding metrics."
   ]
  },
  {
   "cell_type": "code",
   "execution_count": 11,
   "id": "910783b1-9319-431a-9c26-e1b621ee18ca",
   "metadata": {},
   "outputs": [
    {
     "name": "stdout",
     "output_type": "stream",
     "text": [
      "================ SLR result ===================\n",
      "Shape of simple linear model (35, 13)\n"
     ]
    }
   ],
   "source": [
    "X = SLR_df.iloc[:, 2:].copy()\n",
    "\n",
    "y = SLR_df[Y_COL_NAME].copy()\n",
    "\n",
    "SLR_analysis_res_df = get_SLR_analysis_results(X, y)\n",
    "\n",
    "print(\"================ SLR result ===================\")\n",
    "print(\"Shape of simple linear model\", SLR_analysis_res_df.shape)\n",
    "\n",
    "# SLR_analysis_res_df"
   ]
  },
  {
   "cell_type": "code",
   "execution_count": 12,
   "id": "92fc1cc6-67b6-472d-808e-fba02d3e1fdd",
   "metadata": {},
   "outputs": [],
   "source": [
    "# create short name conversion for each variable\n",
    "\n",
    "X_to_alias_dict = {k: f\"V_{i+1}\" for (i, k) in enumerate(X.columns)}\n",
    "alias_to_X_dict = {v: k for k, v in X_to_alias_dict.items()}"
   ]
  },
  {
   "cell_type": "markdown",
   "id": "8f3242b9-2b3d-4bd0-a79b-667a3e05361a",
   "metadata": {
    "tags": []
   },
   "source": [
    "### Plot Bar chart of R-squared for simple linear regression  \n",
    "\n",
    "The bar chart has shown that **Vxxx** has lowest R-squared metric for simple linear regression.   \n",
    "Correspondingly, **Vxx** got relatively higher p-values.  \n",
    "\n",
    "- [sns color palettee guide](https://medium.com/@morganjonesartist/color-guide-to-seaborn-palettes-da849406d44f)"
   ]
  },
  {
   "cell_type": "code",
   "execution_count": 13,
   "id": "b4b1756f-18c5-419f-be7b-bdc75d612d86",
   "metadata": {},
   "outputs": [
    {
     "data": {
      "image/png": "[encoded data removed]",
      "text/plain": [
       "<Figure size 864x720 with 2 Axes>"
      ]
     },
     "metadata": {
      "needs_background": "light"
     },
     "output_type": "display_data"
    }
   ],
   "source": [
    "fig, axs = plt.subplots(2, 1, sharex=True, figsize=(12, 10))\n",
    "ax1, ax2 = axs.flat\n",
    "plt.xticks(rotation=90)\n",
    "\n",
    "\n",
    "num_colors = SLR_analysis_res_df.shape[0]\n",
    "\n",
    "#### Plot R-squared ####\n",
    "## color follow the R-squared value\n",
    "\n",
    "pal = sns.color_palette(\"Blues\", n_colors=num_colors)\n",
    "pal_r = sns.color_palette(\"Blues_r\", n_colors=num_colors)\n",
    "\n",
    "\n",
    "rank = (\n",
    "    SLR_analysis_res_df[\"R-squared\"].argsort().argsort()\n",
    ")  # http://stackoverflow.com/a/6266510/1628638\n",
    "\n",
    "\n",
    "plot1 = sns.barplot(\n",
    "    ax=ax1,\n",
    "    x=\"x_name\",\n",
    "    y=\"R-squared\",\n",
    "    data=SLR_analysis_res_df,\n",
    "    palette=pal,\n",
    "    order=SLR_analysis_res_df.sort_values(\"R-squared\")[\"x_name\"],\n",
    ")\n",
    "\n",
    "ax1.set_title(\"R-squared of Univariate Linear Regression\")\n",
    "\n",
    "#### Plot p-values ####\n",
    "\n",
    "\n",
    "plot2 = sns.barplot(\n",
    "    ax=ax2,\n",
    "    x=\"x_name\",\n",
    "    y=\"Prob (F-statistic)\",\n",
    "    data=SLR_analysis_res_df,\n",
    "    palette=pal_r,\n",
    "    order=SLR_analysis_res_df.sort_values(\"R-squared\")[\"x_name\"],\n",
    ")\n",
    "\n",
    "ax2.set_title(\"Prob (F-statistic) of Univariate Linear Regression\")\n",
    "\n",
    "plt.tight_layout()\n",
    "plt.savefig(\"./output/linear_model/univariate_LR.png\")\n",
    "plt.show()"
   ]
  },
  {
   "cell_type": "markdown",
   "id": "f6fe32f9-628e-4994-b6b8-b3a66c9c8789",
   "metadata": {},
   "source": [
    "### Use best univariate model on test dataset"
   ]
  },
  {
   "cell_type": "code",
   "execution_count": 14,
   "id": "c2be567b-657b-4cfa-8d99-8cea8fdb1563",
   "metadata": {},
   "outputs": [
    {
     "data": {
      "text/html": [
       "<div>\n",
       "<style scoped>\n",
       "    .dataframe tbody tr th:only-of-type {\n",
       "        vertical-align: middle;\n",
       "    }\n",
       "\n",
       "    .dataframe tbody tr th {\n",
       "        vertical-align: top;\n",
       "    }\n",
       "\n",
       "    .dataframe thead th {\n",
       "        text-align: right;\n",
       "    }\n",
       "</style>\n",
       "<table border=\"1\" class=\"dataframe\">\n",
       "  <thead>\n",
       "    <tr style=\"text-align: right;\">\n",
       "      <th></th>\n",
       "      <th>Model</th>\n",
       "      <th>Dependent Variable</th>\n",
       "      <th>Date</th>\n",
       "      <th>No. Observations</th>\n",
       "      <th>Df Model</th>\n",
       "      <th>Df Residuals</th>\n",
       "      <th>R-squared</th>\n",
       "      <th>Adj. R-squared</th>\n",
       "      <th>AIC</th>\n",
       "      <th>BIC</th>\n",
       "      <th>...</th>\n",
       "      <th>train_MPE</th>\n",
       "      <th>train_MAPE</th>\n",
       "      <th>test_RMSE</th>\n",
       "      <th>test_R2</th>\n",
       "      <th>test_MPE_1y</th>\n",
       "      <th>test_MPE_2y</th>\n",
       "      <th>test_MPE_3y</th>\n",
       "      <th>test_MAPE_1y</th>\n",
       "      <th>test_MAPE_2y</th>\n",
       "      <th>test_MAPE_3y</th>\n",
       "    </tr>\n",
       "  </thead>\n",
       "  <tbody>\n",
       "    <tr>\n",
       "      <th>1</th>\n",
       "      <td>OLS</td>\n",
       "      <td>total_deposits_from_non-bank_customer</td>\n",
       "      <td>2022-09-21 17:33</td>\n",
       "      <td>92</td>\n",
       "      <td>3</td>\n",
       "      <td>88</td>\n",
       "      <td>0.999</td>\n",
       "      <td>0.999</td>\n",
       "      <td>2022.4070</td>\n",
       "      <td>2032.4941</td>\n",
       "      <td>...</td>\n",
       "      <td>0.001096</td>\n",
       "      <td>0.013043</td>\n",
       "      <td>29303.617353</td>\n",
       "      <td>0.965404</td>\n",
       "      <td>0.000611</td>\n",
       "      <td>-0.002614</td>\n",
       "      <td>-0.004554</td>\n",
       "      <td>0.003306</td>\n",
       "      <td>0.005655</td>\n",
       "      <td>0.009692</td>\n",
       "    </tr>\n",
       "  </tbody>\n",
       "</table>\n",
       "<p>1 rows × 26 columns</p>\n",
       "</div>"
      ],
      "text/plain": [
       "0 Model                     Dependent Variable              Date  \\\n",
       "1   OLS  total_deposits_from_non-bank_customer  2022-09-21 17:33   \n",
       "\n",
       "0 No. Observations Df Model Df Residuals R-squared Adj. R-squared        AIC  \\\n",
       "1               92        3           88     0.999          0.999  2022.4070   \n",
       "\n",
       "0        BIC  ... train_MPE train_MAPE     test_RMSE   test_R2  test_MPE_1y  \\\n",
       "1  2032.4941  ...  0.001096   0.013043  29303.617353  0.965404     0.000611   \n",
       "\n",
       "0  test_MPE_2y  test_MPE_3y  test_MAPE_1y  test_MAPE_2y  test_MAPE_3y  \n",
       "1    -0.002614    -0.004554      0.003306      0.005655      0.009692  \n",
       "\n",
       "[1 rows x 26 columns]"
      ]
     },
     "metadata": {},
     "output_type": "display_data"
    },
    {
     "data": {
      "text/html": [
       "<div>\n",
       "<style scoped>\n",
       "    .dataframe tbody tr th:only-of-type {\n",
       "        vertical-align: middle;\n",
       "    }\n",
       "\n",
       "    .dataframe tbody tr th {\n",
       "        vertical-align: top;\n",
       "    }\n",
       "\n",
       "    .dataframe thead th {\n",
       "        text-align: right;\n",
       "    }\n",
       "</style>\n",
       "<table border=\"1\" class=\"dataframe\">\n",
       "  <thead>\n",
       "    <tr style=\"text-align: right;\">\n",
       "      <th></th>\n",
       "      <th>Data Series</th>\n",
       "      <th>type</th>\n",
       "      <th>real_y</th>\n",
       "      <th>pred_y</th>\n",
       "      <th>residual</th>\n",
       "    </tr>\n",
       "  </thead>\n",
       "  <tbody>\n",
       "    <tr>\n",
       "      <th>12</th>\n",
       "      <td>1995 1Q</td>\n",
       "      <td>train</td>\n",
       "      <td>300190.7</td>\n",
       "      <td>3.047688e+05</td>\n",
       "      <td>4578.101259</td>\n",
       "    </tr>\n",
       "    <tr>\n",
       "      <th>13</th>\n",
       "      <td>1995 2Q</td>\n",
       "      <td>train</td>\n",
       "      <td>309114.8</td>\n",
       "      <td>3.111001e+05</td>\n",
       "      <td>1985.320747</td>\n",
       "    </tr>\n",
       "    <tr>\n",
       "      <th>14</th>\n",
       "      <td>1995 3Q</td>\n",
       "      <td>train</td>\n",
       "      <td>311506.0</td>\n",
       "      <td>3.199173e+05</td>\n",
       "      <td>8411.325399</td>\n",
       "    </tr>\n",
       "    <tr>\n",
       "      <th>15</th>\n",
       "      <td>1995 4Q</td>\n",
       "      <td>train</td>\n",
       "      <td>319829.3</td>\n",
       "      <td>3.194763e+05</td>\n",
       "      <td>-352.952327</td>\n",
       "    </tr>\n",
       "    <tr>\n",
       "      <th>16</th>\n",
       "      <td>1996 1Q</td>\n",
       "      <td>train</td>\n",
       "      <td>330260.1</td>\n",
       "      <td>3.297185e+05</td>\n",
       "      <td>-541.581256</td>\n",
       "    </tr>\n",
       "    <tr>\n",
       "      <th>...</th>\n",
       "      <td>...</td>\n",
       "      <td>...</td>\n",
       "      <td>...</td>\n",
       "      <td>...</td>\n",
       "      <td>...</td>\n",
       "    </tr>\n",
       "    <tr>\n",
       "      <th>111</th>\n",
       "      <td>2019 4Q</td>\n",
       "      <td>test</td>\n",
       "      <td>2042985.9</td>\n",
       "      <td>2.043351e+06</td>\n",
       "      <td>364.990675</td>\n",
       "    </tr>\n",
       "    <tr>\n",
       "      <th>112</th>\n",
       "      <td>2020 1Q</td>\n",
       "      <td>test</td>\n",
       "      <td>2108964.4</td>\n",
       "      <td>2.069041e+06</td>\n",
       "      <td>-39923.022121</td>\n",
       "    </tr>\n",
       "    <tr>\n",
       "      <th>113</th>\n",
       "      <td>2020 2Q</td>\n",
       "      <td>test</td>\n",
       "      <td>2222162.2</td>\n",
       "      <td>2.151540e+06</td>\n",
       "      <td>-70622.687763</td>\n",
       "    </tr>\n",
       "    <tr>\n",
       "      <th>114</th>\n",
       "      <td>2020 3Q</td>\n",
       "      <td>test</td>\n",
       "      <td>2248359.8</td>\n",
       "      <td>2.290324e+06</td>\n",
       "      <td>41964.596530</td>\n",
       "    </tr>\n",
       "    <tr>\n",
       "      <th>115</th>\n",
       "      <td>2020 4Q</td>\n",
       "      <td>test</td>\n",
       "      <td>2286992.5</td>\n",
       "      <td>2.283138e+06</td>\n",
       "      <td>-3854.317124</td>\n",
       "    </tr>\n",
       "  </tbody>\n",
       "</table>\n",
       "<p>104 rows × 5 columns</p>\n",
       "</div>"
      ],
      "text/plain": [
       "    Data Series   type     real_y        pred_y      residual\n",
       "12      1995 1Q  train   300190.7  3.047688e+05   4578.101259\n",
       "13      1995 2Q  train   309114.8  3.111001e+05   1985.320747\n",
       "14      1995 3Q  train   311506.0  3.199173e+05   8411.325399\n",
       "15      1995 4Q  train   319829.3  3.194763e+05   -352.952327\n",
       "16      1996 1Q  train   330260.1  3.297185e+05   -541.581256\n",
       "..          ...    ...        ...           ...           ...\n",
       "111     2019 4Q   test  2042985.9  2.043351e+06    364.990675\n",
       "112     2020 1Q   test  2108964.4  2.069041e+06 -39923.022121\n",
       "113     2020 2Q   test  2222162.2  2.151540e+06 -70622.687763\n",
       "114     2020 3Q   test  2248359.8  2.290324e+06  41964.596530\n",
       "115     2020 4Q   test  2286992.5  2.283138e+06  -3854.317124\n",
       "\n",
       "[104 rows x 5 columns]"
      ]
     },
     "metadata": {},
     "output_type": "display_data"
    },
    {
     "data": {
      "image/png": "[encoded data removed]",
      "text/plain": [
       "<Figure size 1440x432 with 1 Axes>"
      ]
     },
     "metadata": {
      "needs_background": "light"
     },
     "output_type": "display_data"
    }
   ],
   "source": [
    "def save_model_to_pickle(\n",
    "    model_class, insample_data, outsample_data, selected_X_names, y_name\n",
    "):\n",
    "\n",
    "    # train model\n",
    "    current_train_X = insample_data[selected_X_names]\n",
    "    current_train_y = insample_data[y_name]\n",
    "\n",
    "    model = model_class(current_train_X, current_train_y)\n",
    "    current_train_predict_y = model.predict(current_train_X)\n",
    "\n",
    "    # eval\n",
    "    metrics_df = model.get_train_eval()\n",
    "    train_rmse = metrics_df[\"train_RMSE\"]\n",
    "    train_r2 = metrics_df[\"train_R2\"]\n",
    "\n",
    "    # test dataset\n",
    "    current_test_X = outsample_data[selected_X_names]\n",
    "    current_test_y = outsample_data[y_name]\n",
    "    current_test_predict_y = model.predict(current_test_X)\n",
    "\n",
    "    metrics_df[\"test_RMSE\"] = RMSE(current_test_y, current_test_predict_y)\n",
    "    metrics_df[\"test_R2\"] = R2(current_test_y, current_test_predict_y)\n",
    "    metrics_df[\"test_MPE_1y\"] = MPE(current_test_y[:4], current_test_predict_y[:4])\n",
    "    metrics_df[\"test_MPE_2y\"] = MPE(current_test_y[:8], current_test_predict_y[:8])\n",
    "    metrics_df[\"test_MPE_3y\"] = MPE(current_test_y[:12], current_test_predict_y[:12])\n",
    "    metrics_df[\"test_MAPE_1y\"] = MAPE(current_test_y[:4], current_test_predict_y[:4])\n",
    "    metrics_df[\"test_MAPE_2y\"] = MAPE(current_test_y[:8], current_test_predict_y[:8])\n",
    "    metrics_df[\"test_MAPE_3y\"] = MAPE(current_test_y[:12], current_test_predict_y[:12])\n",
    "\n",
    "    # train\n",
    "\n",
    "    train_y_df = insample_data[[\"Data Series\"]].copy()\n",
    "    train_y_df[\"type\"] = [\"train\"] * train_y_df.shape[0]\n",
    "    train_y_df[\"real_y\"] = current_train_y\n",
    "    train_y_df[\"pred_y\"] = current_train_predict_y\n",
    "    train_y_df[\"residual\"] = current_train_predict_y - current_train_y\n",
    "\n",
    "    # test\n",
    "    test_y_df = outsample_data[[\"Data Series\"]].copy()\n",
    "    test_y_df[\"type\"] = [\"test\"] * test_y_df.shape[0]\n",
    "    test_y_df[\"real_y\"] = current_test_y\n",
    "    test_y_df[\"pred_y\"] = current_test_predict_y\n",
    "    test_y_df[\"residual\"] = current_test_predict_y - current_test_y\n",
    "\n",
    "    y_df = pd.concat([train_y_df, test_y_df])\n",
    "\n",
    "    display(metrics_df)\n",
    "\n",
    "    display(y_df)\n",
    "    \n",
    "    return metrics_df, y_df\n",
    "\n",
    "    # plot\n",
    "    plt.figure(figsize=(20, 6))\n",
    "    plt.title(f\"Simple linear regression: {selected_X_names}\")\n",
    "    plt.xticks(rotation=90)\n",
    "    plt.plot(train_y_df[\"Data Series\"], train_y_df[\"real_y\"], label=\"real y\")\n",
    "    plt.plot(train_y_df[\"Data Series\"], train_y_df[\"pred_y\"], label=\"pred y\")\n",
    "    plt.plot(test_y_df[\"Data Series\"], test_y_df[\"real_y\"], label=\"real y\")\n",
    "    plt.plot(test_y_df[\"Data Series\"], test_y_df[\"pred_y\"], label=\"pred y\")\n",
    "    plt.legend()\n",
    "    plt.show()\n",
    "\n",
    "\n",
    "save_model_to_pickle(\n",
    "    MyLR,\n",
    "    insample_lag_df,\n",
    "    outsample_lag_df,\n",
    "    [\"y_lag_1\", \"y_lag_2\", \"y_lag_3\"],\n",
    "    Y_COL_NAME,\n",
    ")"
   ]
  },
  {
   "cell_type": "code",
   "execution_count": null,
   "id": "a8eaa7c8-6bf8-484c-b7b9-73fcd46da739",
   "metadata": {},
   "outputs": [],
   "source": []
  },
  {
   "cell_type": "code",
   "execution_count": null,
   "id": "f310d4fa-8341-4f8f-ba8d-864b0196f4e4",
   "metadata": {},
   "outputs": [],
   "source": []
  },
  {
   "cell_type": "markdown",
   "id": "86cbfebe-5257-4466-81c8-c8a0ae916a5d",
   "metadata": {},
   "source": [
    "## 1.2 Multiple Linear Model  \n",
    "\n",
    "- [Cross Validation in Machine Learning using StatsModels and Sklearn with Logistic Regression Example](https://medium.com/analytics-vidhya/cross-validation-in-machine-learning-using-python-4d0f335bec83)  \n",
    "- [How to Selecting Predictors](https://otexts.com/fpp2/selecting-predictors.html)  \n",
    "- [statsmodel wrapper for sklearn cross-validation](https://stackoverflow.com/questions/41045752/using-statsmodel-estimations-with-scikit-learn-cross-validation-is-it-possible)"
   ]
  },
  {
   "cell_type": "code",
   "execution_count": null,
   "id": "8e0eea81-597a-4a04-9587-8e4ca684cd57",
   "metadata": {},
   "outputs": [],
   "source": [
    "MLR_df = insample_lag_df.copy()"
   ]
  },
  {
   "cell_type": "markdown",
   "id": "df6bab33-5069-4ee2-a786-ea0768e5ed9a",
   "metadata": {},
   "source": [
    "### 1.2.1 Multiple Linear Regression: all variables, feature importance measured by **coefficient**."
   ]
  },
  {
   "cell_type": "code",
   "execution_count": null,
   "id": "04d780f6-8f3a-49a2-8a2f-12977e2861c7",
   "metadata": {},
   "outputs": [],
   "source": [
    "from sklearn.linear_model import LinearRegression\n",
    "from sklearn import preprocessing"
   ]
  },
  {
   "cell_type": "code",
   "execution_count": null,
   "id": "abbade23-c204-46c6-9772-032230e32089",
   "metadata": {},
   "outputs": [],
   "source": [
    "min_max_scaler = preprocessing.MinMaxScaler()\n",
    "normalized_MLR_df = min_max_scaler.fit_transform(MLR_df.iloc[:, 1:])\n",
    "\n",
    "\n",
    "# normalized before linear regression since coefficient will be used as feature importance\n",
    "X = normalized_MLR_df[:, 1:]\n",
    "y = normalized_MLR_df[:, 0]\n",
    "\n",
    "## create alias for independent variables\n",
    "\n",
    "sk_LR_model = LinearRegression()\n",
    "# fit the model\n",
    "sk_LR_model.fit(X, y)\n",
    "# get importance\n",
    "importance = sk_LR_model.coef_\n",
    "\n",
    "importance"
   ]
  },
  {
   "cell_type": "code",
   "execution_count": null,
   "id": "91d10531-b0b9-4e40-b959-4f9a30a0f124",
   "metadata": {},
   "outputs": [],
   "source": [
    "x_labels = MLR_df.columns[2:]\n",
    "x = range(len(importance))\n",
    "\n",
    "temp_df = pd.DataFrame([x_labels, importance]).T\n",
    "temp_df.columns = [\"x_name\", \"coef\"]\n",
    "\n",
    "\n",
    "plt.figure(figsize=(12, 6))\n",
    "plt.title(\"Multiple linear regression: feature importance by coefficient\", fontsize=16)\n",
    "\n",
    "pal = sns.diverging_palette(240, 10, n=SLR_analysis_res_df.shape[0])\n",
    "\n",
    "rank = np.abs(importance).argsort().argsort()\n",
    "plt.xticks(rotation=90)\n",
    "\n",
    "plot = sns.barplot(\n",
    "    x=\"x_name\",\n",
    "    y=\"coef\",\n",
    "    data=temp_df,\n",
    "    # palette=np.array(pal)[rank],\n",
    "    palette=pal,\n",
    "    order=temp_df.sort_values(\"coef\")[\"x_name\"],\n",
    ")\n",
    "\n",
    "plt.savefig(\"./output/linear_model/multivariate_LR_feature_importance\")\n",
    "plt.show()"
   ]
  },
  {
   "cell_type": "code",
   "execution_count": null,
   "id": "0e119b56-fb74-4703-8432-a9773d0462fc",
   "metadata": {},
   "outputs": [],
   "source": [
    "# current_train_X = insample_lag_df[[\"y_lag_1\"]]\n",
    "# current_train_y = insample_lag_df[Y_COL_NAME]\n",
    "\n",
    "# mySLR = MyLR(train_X=current_train_X, train_y=current_train_y)\n",
    "# metrics_df = mySLR.get_train_eval()\n",
    "# display(metrics_df)\n",
    "\n",
    "# train_rmse = RMSE(current_train_y, mySLR.train_predict_y)\n",
    "# train_r2 = float(metrics_df[\"R-squared\"].values[0])\n",
    "\n",
    "\n",
    "# test dataset\n",
    "current_test_X = outsample_lag_df.iloc[:, 2:].values\n",
    "current_test_y = outsample_lag_df[Y_COL_NAME].values\n",
    "current_test_predict_y = sk_LR_model.predict(X=current_test_X)\n",
    "\n",
    "\n",
    "test_rmse = RMSE(current_test_y, current_test_predict_y)\n",
    "test_r2 = R2(current_test_y, current_test_predict_y)\n",
    "\n",
    "print(\"\", train_rmse, train_r2, test_rmse, test_r2)\n",
    "\n",
    "\n",
    "temp_df = pd.DataFrame([current_test_y, current_test_predict_y]).T\n",
    "temp_df.columns = [\"y\", \"fit_y\"]\n",
    "temp_df[\"diff\"] = temp_df[\"fit_y\"] - temp_df[\"y\"]\n",
    "\n",
    "display(temp_df)\n",
    "\n",
    "# display(temp_df)\n",
    "\n",
    "plt.figure(figsize=(10, 6))\n",
    "plt.title(\"Multivariate linear regression: all features\")\n",
    "plt.xticks(rotation=90)\n",
    "plt.plot(outsample_lag_df[\"Data Series\"], temp_df[\"y\"], label=\"real y\")\n",
    "plt.plot(outsample_lag_df[\"Data Series\"], temp_df[\"fit_y\"], label=\"fitted y\")\n",
    "plt.legend()\n",
    "plt.show()"
   ]
  },
  {
   "cell_type": "markdown",
   "id": "2e5b855e-919f-4603-b1cf-389e815befe3",
   "metadata": {},
   "source": [
    "### 1.2.2 Stepwise Regression: Backward elimination  \n",
    "\n",
    "- [metrics string](https://scikit-learn.org/stable/modules/model_evaluation.html)"
   ]
  },
  {
   "cell_type": "code",
   "execution_count": null,
   "id": "5a1863fa-5173-4338-992d-7019d29c19c6",
   "metadata": {},
   "outputs": [],
   "source": [
    "#### using all features\n",
    "y_name = Y_COL_NAME\n",
    "x_names = list(MLR_df.columns[2:])\n",
    "\n",
    "lr_model = LinearRegression()\n",
    "res_dict = get_cv_results(lr_model, MLR_df, y_name, x_names)\n",
    "res_df = dict_to_dataframe(res_dict)\n",
    "\n",
    "res_df"
   ]
  },
  {
   "cell_type": "code",
   "execution_count": null,
   "id": "384b3595-02b4-4c61-998c-b01a045b06cc",
   "metadata": {},
   "outputs": [],
   "source": [
    "y_name = Y_COL_NAME\n",
    "current_x_columns = list(MLR_df.columns[2:])\n",
    "k = len(current_x_columns)\n",
    "criteria_metric = \"test_MAPE\"\n",
    "\n",
    "# record best model for k, k = 1,2,...,K\n",
    "best_k_df_ls = []\n",
    "\n",
    "# a linear regression model\n",
    "lr_model = LinearRegression()\n",
    "\n",
    "### add model using all variables first\n",
    "print(\n",
    "    f\"============================ Feature Subset Size: {k} =================================\"\n",
    ")\n",
    "# print(f\"number of candidates: 1\")\n",
    "cv_eval_df = get_cv_results(lr_model, MLR_df, y_name, list(current_x_columns))\n",
    "cv_eval_df[\"columns\"] = str(list(current_x_columns))\n",
    "cv_eval_df[\"subset_size\"] = k\n",
    "cv_eval_df[\"removed\"] = \"None\"\n",
    "best_k_df_ls.append(dict_to_dataframe(cv_eval_df))\n",
    "\n",
    "\n",
    "# backwards elimination\n",
    "while k > 1:\n",
    "\n",
    "    print(\n",
    "        f\"============================ Feature Subset Size: {k-1} =================================\"\n",
    "    )\n",
    "\n",
    "    # 1. get all (k-1) combinations\n",
    "    current_x_combination = select_k(current_x_columns, k - 1)\n",
    "\n",
    "    # 2. get evaluation metrics for each subset\n",
    "    temp_eval_ls = []\n",
    "    for current_x in current_x_combination:\n",
    "\n",
    "        cv_eval_df = get_cv_results(lr_model, MLR_df, y_name, list(current_x))\n",
    "\n",
    "        cv_eval_df[\"columns\"] = str(list(current_x))\n",
    "        cv_eval_df[\"subset_size\"] = k - 1\n",
    "\n",
    "        temp_eval_ls.append(dict_to_dataframe(cv_eval_df))\n",
    "\n",
    "    # summary of all (k-1) models\n",
    "    temp_eval_df = pd.concat(temp_eval_ls)\n",
    "\n",
    "    # 3. get the one with maximum metric value\n",
    "    best_k_df = temp_eval_df[\n",
    "        temp_eval_df[criteria_metric] == temp_eval_df[criteria_metric].max()\n",
    "    ].copy()\n",
    "\n",
    "    # 4. get the best (k-1) x_names\n",
    "    best_k_columns = listStr_to_list(best_k_df[\"columns\"].values[0])\n",
    "\n",
    "    # 5. record the feature removed for this round\n",
    "    removed = [x for x in current_x_columns if x not in best_k_columns]\n",
    "    best_k_df[\"removed\"] = removed\n",
    "\n",
    "    # 6. record best model for this round\n",
    "    best_k_df_ls.append(best_k_df)\n",
    "\n",
    "    # 7. enter next round\n",
    "    current_x_columns = best_k_columns\n",
    "    k = k - 1\n",
    "\n",
    "\n",
    "best_k_summary = pd.concat(best_k_df_ls).reset_index(drop=True)\n",
    "\n",
    "display(best_k_summary)"
   ]
  },
  {
   "cell_type": "markdown",
   "id": "4c6a81b2-6cff-474f-a76a-c2f1a8834f4b",
   "metadata": {},
   "source": [
    "- Plot evaluation metrics for best-k subset models"
   ]
  },
  {
   "cell_type": "code",
   "execution_count": null,
   "id": "21f3398e-c8b6-489a-816a-d1a20437fbd6",
   "metadata": {},
   "outputs": [],
   "source": [
    "fig, axs = plt.subplots(1, 3, figsize=(24, 6))\n",
    "axs = axs.flat\n",
    "\n",
    "# plt.suptitle(\"Backwards Elimination Process\", fontsize=20)\n",
    "\n",
    "train_ls = [\"train_RMSE\", \"train_R2\", \"train_MAPE\"]\n",
    "test_ls = [\"test_RMSE\", \"test_R2\", \"test_MAPE\"]\n",
    "\n",
    "for i in range(len(train_ls)):\n",
    "\n",
    "    axs[i].plot(\n",
    "        best_k_summary[\"subset_size\"],\n",
    "        best_k_summary[train_ls[i]],\n",
    "        marker=\"o\",\n",
    "        alpha=0.75,\n",
    "        label=\"train\",\n",
    "    )\n",
    "\n",
    "    axs[i].plot(\n",
    "        best_k_summary[\"subset_size\"],\n",
    "        best_k_summary[test_ls[i]],\n",
    "        marker=\"^\",\n",
    "        alpha=0.75,\n",
    "        label=\"test\",\n",
    "    )\n",
    "\n",
    "    axs[i].set_xlabel(\"subset_size\")\n",
    "    axs[i].set_ylabel(train_ls[i].split(\"_\")[-1])\n",
    "    axs[i].set_title(f'{train_ls[i].split(\"_\")[-1]} vs. Subset Size', fontsize=16)\n",
    "    axs[i].legend(loc=\"upper right\")\n",
    "\n",
    "plt.savefig(\"./output/linear_model/multivariate_LR_backwards_elimination.png\")\n",
    "plt.show()"
   ]
  },
  {
   "cell_type": "markdown",
   "id": "74c48454-9c1a-4d45-a2de-0de29b2d2ed3",
   "metadata": {},
   "source": [
    "- Get the best subset at turning point, evaluate it on the outsample dataset"
   ]
  },
  {
   "cell_type": "code",
   "execution_count": null,
   "id": "bfa8907d-78fc-418b-821b-035235660788",
   "metadata": {},
   "outputs": [],
   "source": [
    "# best_k_summary.iloc[5, :][\"columns\"]\n",
    "\n",
    "x_cols = listStr_to_list(best_k_summary.iloc[5, :][\"columns\"])\n",
    "\n",
    "\n",
    "current_train_X = insample_lag_df[x_cols]\n",
    "current_train_y = insample_lag_df[Y_COL_NAME]\n",
    "\n",
    "mySLR = MyLR(train_X=current_train_X, train_y=current_train_y)\n",
    "metrics_df = mySLR.get_train_eval()\n",
    "display(metrics_df)\n",
    "\n",
    "train_rmse = RMSE(current_train_y, mySLR.train_predict_y)\n",
    "train_r2 = float(metrics_df[\"R-squared\"].values[0])\n",
    "\n",
    "\n",
    "# test dataset\n",
    "current_test_X = outsample_lag_df[x_cols]\n",
    "current_test_y = outsample_lag_df[Y_COL_NAME]\n",
    "current_test_predict_y = mySLR.predict(X=current_test_X)\n",
    "\n",
    "test_rmse = RMSE(current_test_y, current_test_predict_y)\n",
    "test_r2 = R2(current_test_y, current_test_predict_y)\n",
    "\n",
    "print(\"\", train_rmse, train_r2, test_rmse, test_r2)"
   ]
  },
  {
   "cell_type": "code",
   "execution_count": null,
   "id": "3e38f496-e4fd-4be1-b121-a7c6c86defdd",
   "metadata": {},
   "outputs": [],
   "source": [
    "temp_df = pd.DataFrame([current_test_y, current_test_predict_y]).T\n",
    "temp_df.columns = [\"y\", \"fit_y\"]\n",
    "temp_df[\"diff\"] = temp_df[\"fit_y\"] - temp_df[\"y\"]\n",
    "\n",
    "temp_df\n",
    "\n",
    "plt.figure(figsize=(10, 6))\n",
    "plt.xticks(rotation=90)\n",
    "plt.plot(outsample_lag_df[\"Data Series\"], temp_df[\"y\"])\n",
    "plt.plot(outsample_lag_df[\"Data Series\"], temp_df[\"fit_y\"])\n",
    "plt.show()"
   ]
  },
  {
   "cell_type": "code",
   "execution_count": null,
   "id": "55a1c1d6-2c52-49ca-8853-201f036412ad",
   "metadata": {},
   "outputs": [],
   "source": []
  },
  {
   "cell_type": "code",
   "execution_count": null,
   "id": "d514dfe8-08f1-4178-b9d7-2db2bcae52a3",
   "metadata": {},
   "outputs": [],
   "source": []
  },
  {
   "cell_type": "code",
   "execution_count": null,
   "id": "4978d46a-c2ed-4ae9-ab01-c4c79e948d20",
   "metadata": {},
   "outputs": [],
   "source": []
  },
  {
   "cell_type": "markdown",
   "id": "7fe45bdb-149b-4a16-800d-1e28294a2db8",
   "metadata": {},
   "source": [
    "### 1.2.3 Feature Selection by Model: Elasticnet"
   ]
  },
  {
   "cell_type": "code",
   "execution_count": null,
   "id": "b72ab7fb-1078-412b-958f-01afb860b06c",
   "metadata": {},
   "outputs": [],
   "source": [
    "# evaluate an elastic net model on the dataset\n",
    "from numpy import mean\n",
    "from numpy import std\n",
    "from numpy import absolute\n",
    "from pandas import read_csv\n",
    "from sklearn.model_selection import cross_val_score\n",
    "from sklearn.model_selection import RepeatedKFold\n",
    "from sklearn.linear_model import ElasticNetCV"
   ]
  },
  {
   "cell_type": "code",
   "execution_count": null,
   "id": "72ff2ca8-881a-45e2-8420-ed15d67142d9",
   "metadata": {},
   "outputs": [],
   "source": [
    "# define model\n",
    "# model = ElasticNet(alpha=1.0, l1_ratio=0.5)\n",
    "# define model evaluation method\n",
    "cv = RepeatedKFold(n_splits=5, n_repeats=5, random_state=1)\n",
    "# evaluate model\n",
    "\n",
    "# define model\n",
    "ratios = [0.1, 0.5, 0.7, 0.9, 0.95, 0.99, 1]\n",
    "\n",
    "model = ElasticNetCV(l1_ratio=ratios, cv=cv)\n",
    "# fit model\n",
    "model.fit(X, y)\n",
    "# summarize chosen configuration\n",
    "print(\"alpha: %f\" % model.alpha_)\n",
    "print(\"l1_ratio_: %f\" % model.l1_ratio_)\n",
    "\n",
    "model.coef_\n",
    "\n",
    "predict_y = model.predict(X)\n",
    "\n",
    "\n",
    "MAPE(y, predict_y)"
   ]
  },
  {
   "cell_type": "code",
   "execution_count": null,
   "id": "084500eb-c0e6-47fb-a92c-729af58525d8",
   "metadata": {},
   "outputs": [],
   "source": [
    "### test code\n",
    "\n",
    "# best_k_summary.iloc[5, :][\"columns\"]\n",
    "\n",
    "current_test_y = outsample_lag_df[Y_COL_NAME]\n",
    "current_test_predict_y = model.predict(outsample_lag_df.iloc[:, 2:])\n",
    "\n",
    "\n",
    "temp_df = pd.DataFrame([list(current_test_y), current_test_predict_y]).T\n",
    "temp_df.columns = [\"y\", \"fit_y\"]\n",
    "temp_df[\"diff\"] = temp_df[\"fit_y\"] - temp_df[\"y\"]\n",
    "\n",
    "display(temp_df)\n",
    "\n",
    "plt.figure(figsize=(10, 6))\n",
    "plt.xticks(rotation=90)\n",
    "plt.plot(outsample_lag_df[\"Data Series\"], temp_df[\"y\"])\n",
    "plt.plot(outsample_lag_df[\"Data Series\"], temp_df[\"fit_y\"])\n",
    "plt.show()"
   ]
  },
  {
   "cell_type": "code",
   "execution_count": null,
   "id": "db1471cf-1f25-4faa-a73d-7cd0d31b274e",
   "metadata": {},
   "outputs": [],
   "source": []
  },
  {
   "cell_type": "code",
   "execution_count": null,
   "id": "10904882-33f4-49ac-8269-91c9592fe37d",
   "metadata": {},
   "outputs": [],
   "source": [
    "importance = model.coef_\n",
    "\n",
    "x_labels = [\"V_\" + str(i + 1) for i in range(len(importance))]\n",
    "x = range(len(importance))\n",
    "\n",
    "temp_df = pd.DataFrame([x_labels, importance]).T\n",
    "temp_df.columns = [\"x_alias\", \"coef\"]\n",
    "\n",
    "\n",
    "plt.figure(figsize=(10, 6))\n",
    "plt.title(\"Multiple linear regression: feature importance by coefficient\", fontsize=16)\n",
    "\n",
    "pal = sns.color_palette(\"Blues_d\", SLR_analysis_res_df.shape[0])\n",
    "rank = np.abs(importance).argsort().argsort()\n",
    "plt.xticks(rotation=90)\n",
    "\n",
    "plot2 = sns.barplot(\n",
    "    x=\"x_alias\",\n",
    "    y=\"coef\",\n",
    "    data=temp_df,\n",
    "    # palette=np.array(pal)[rank],\n",
    "    palette=pal,\n",
    "    order=temp_df.sort_values(\"coef\")[\"x_alias\"],\n",
    ")\n",
    "\n",
    "plt.savefig(\"./output/linear_model/multivariate_LR_feature_importance\")\n",
    "plt.show()"
   ]
  },
  {
   "cell_type": "code",
   "execution_count": null,
   "id": "5ae83bf0-ddc1-4a00-ab98-9963a97a5b8f",
   "metadata": {},
   "outputs": [],
   "source": []
  },
  {
   "cell_type": "code",
   "execution_count": null,
   "id": "e0f37e86-e656-40f0-bc4a-74bb91dfb6d2",
   "metadata": {},
   "outputs": [],
   "source": []
  }
 ],
 "metadata": {
  "kernelspec": {
   "display_name": "Python 3 (ipykernel)",
   "language": "python",
   "name": "python3"
  },
  "language_info": {
   "codemirror_mode": {
    "name": "ipython",
    "version": 3
   },
   "file_extension": ".py",
   "mimetype": "text/x-python",
   "name": "python",
   "nbconvert_exporter": "python",
   "pygments_lexer": "ipython3",
   "version": "3.9.12"
  }
 },
 "nbformat": 4,
 "nbformat_minor": 5
}
